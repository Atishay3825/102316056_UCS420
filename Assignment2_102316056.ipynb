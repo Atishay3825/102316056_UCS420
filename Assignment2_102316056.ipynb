{
  "nbformat": 4,
  "nbformat_minor": 0,
  "metadata": {
    "colab": {
      "provenance": [],
      "authorship_tag": "ABX9TyNMmzbd6fnOqeF63Y5nk3Rm",
      "include_colab_link": true
    },
    "kernelspec": {
      "name": "python3",
      "display_name": "Python 3"
    },
    "language_info": {
      "name": "python"
    }
  },
  "cells": [
    {
      "cell_type": "markdown",
      "metadata": {
        "id": "view-in-github",
        "colab_type": "text"
      },
      "source": [
        "<a href=\"https://colab.research.google.com/github/Atishay3825/102316056_UCS420/blob/main/Assignment2_102316056.ipynb\" target=\"_parent\"><img src=\"https://colab.research.google.com/assets/colab-badge.svg\" alt=\"Open In Colab\"/></a>"
      ]
    },
    {
      "cell_type": "code",
      "execution_count": 1,
      "metadata": {
        "id": "LBsPwo4HnVOq",
        "colab": {
          "base_uri": "https://localhost:8080/"
        },
        "outputId": "a3ed4ebb-b98c-4618-d9ed-9cb815cc8056"
      },
      "outputs": [
        {
          "output_type": "stream",
          "name": "stdout",
          "text": [
            "[10, 20, 30, 40, 50, 60, 70, 80, 200, 300]\n"
          ]
        }
      ],
      "source": [
        "#1.i\n",
        "L = [10, 20, 30, 40, 50, 60, 70, 80]\n",
        "L.append(200)\n",
        "L.append(300)\n",
        "print(L)\n"
      ]
    },
    {
      "cell_type": "code",
      "source": [
        "\n",
        "#1.iii\n",
        "L = [10, 20, 30, 40, 50, 60, 70, 80]\n",
        "L.sort()\n",
        "print(L)\n"
      ],
      "metadata": {
        "colab": {
          "base_uri": "https://localhost:8080/"
        },
        "id": "2kBd9qwMpc9x",
        "outputId": "a800d4b2-7a18-4c19-dcf1-fc028695d0ab"
      },
      "execution_count": 2,
      "outputs": [
        {
          "output_type": "stream",
          "name": "stdout",
          "text": [
            "[10, 20, 30, 40, 50, 60, 70, 80]\n"
          ]
        }
      ]
    },
    {
      "cell_type": "code",
      "source": [
        "#1.iv\n",
        "L = [10, 20, 30, 40, 50, 60, 70, 80]\n",
        "L.sort(reverse=True)\n",
        "print(L)\n"
      ],
      "metadata": {
        "colab": {
          "base_uri": "https://localhost:8080/"
        },
        "id": "jToIZWTwpb4d",
        "outputId": "6c8fff43-ce56-4da1-acab-4f6c43b8a894"
      },
      "execution_count": 3,
      "outputs": [
        {
          "output_type": "stream",
          "name": "stdout",
          "text": [
            "[80, 70, 60, 50, 40, 30, 20, 10]\n"
          ]
        }
      ]
    },
    {
      "cell_type": "code",
      "source": [
        "#2.i\n",
        "scores = (45, 89.5, 76, 45.4, 89, 92, 58, 45)\n",
        "max_score = max(scores)\n",
        "print(max_score, scores.index(max_score))\n"
      ],
      "metadata": {
        "colab": {
          "base_uri": "https://localhost:8080/"
        },
        "id": "PgkLSUa0pabm",
        "outputId": "d5d687b0-576b-431b-ad82-9b26011dead7"
      },
      "execution_count": 4,
      "outputs": [
        {
          "output_type": "stream",
          "name": "stdout",
          "text": [
            "92 5\n"
          ]
        }
      ]
    },
    {
      "cell_type": "code",
      "source": [
        "#2.ii\n",
        "scores = (45, 89.5, 76, 45.4, 89, 92, 58, 45)\n",
        "min_score = min(scores)\n",
        "print(min_score, scores.count(min_score))"
      ],
      "metadata": {
        "colab": {
          "base_uri": "https://localhost:8080/"
        },
        "id": "KvkXJJpFpZAo",
        "outputId": "92cf2161-b43e-401c-8ee8-4175a228c82d"
      },
      "execution_count": 5,
      "outputs": [
        {
          "output_type": "stream",
          "name": "stdout",
          "text": [
            "45 2\n"
          ]
        }
      ]
    },
    {
      "cell_type": "code",
      "source": [
        "#2.iii\n",
        "scores = (45, 89.5, 76, 45.4, 89, 92, 58, 45)\n",
        "reversed_scores = list(scores[::-1])\n",
        "print(reversed_scores)"
      ],
      "metadata": {
        "colab": {
          "base_uri": "https://localhost:8080/"
        },
        "id": "geTXYL1WpXiw",
        "outputId": "2d8a26af-3678-4151-d86c-8feee682017a"
      },
      "execution_count": 6,
      "outputs": [
        {
          "output_type": "stream",
          "name": "stdout",
          "text": [
            "[45, 58, 92, 89, 45.4, 76, 89.5, 45]\n"
          ]
        }
      ]
    },
    {
      "cell_type": "code",
      "source": [
        "#2.iv\n",
        "scores = (45, 89.5, 76, 45.4, 89, 92, 58, 45)\n",
        "num = int(input(\"Enter a score to check: \"))\n",
        "if num in scores:\n",
        "    print(scores.index(num))\n",
        "else:\n",
        "    print(\"Not present\")\n"
      ],
      "metadata": {
        "colab": {
          "base_uri": "https://localhost:8080/"
        },
        "id": "UC0UFdGBpWNz",
        "outputId": "b89150f6-f280-43a0-be9f-1f662c48c329"
      },
      "execution_count": 7,
      "outputs": [
        {
          "output_type": "stream",
          "name": "stdout",
          "text": [
            "Enter a score to check: 5\n",
            "Not present\n"
          ]
        }
      ]
    },
    {
      "cell_type": "code",
      "source": [
        "#3.i\n",
        "import random\n",
        "numbers = [random.randint(100, 900) for _ in range(100)]\n",
        "odds = []\n",
        "evens = []\n",
        "primes = []\n",
        "for num in numbers:\n",
        "    if num % 2 != 0:\n",
        "        odds.append(num)\n",
        "    else:\n",
        "        evens.append(num)\n",
        "    is_prime = True\n",
        "    if num < 2:\n",
        "        is_prime = False\n",
        "    for i in range(2, int(num ** 0.5) + 1):\n",
        "        if num % i == 0:\n",
        "            is_prime = False\n",
        "            break\n",
        "    if is_prime:\n",
        "        primes.append(num)\n",
        "print(\"Odd numbers:\", odds)\n",
        "print(\"Even numbers:\", evens)\n",
        "print(\"Prime numbers:\", primes)\n"
      ],
      "metadata": {
        "colab": {
          "base_uri": "https://localhost:8080/"
        },
        "id": "-mYP0QvPpUqp",
        "outputId": "a8629190-d226-452f-c6c7-e68ce6ece4e5"
      },
      "execution_count": 8,
      "outputs": [
        {
          "output_type": "stream",
          "name": "stdout",
          "text": [
            "Odd numbers: [825, 493, 865, 583, 749, 805, 271, 547, 365, 459, 415, 279, 105, 409, 639, 441, 381, 331, 195, 163, 591, 717, 493, 845, 675, 599, 719, 727, 279, 409, 249, 369, 681, 489, 867, 743, 203, 661, 381, 431, 523, 861, 793, 113, 765, 847, 755, 103, 821, 445, 567, 143]\n",
            "Even numbers: [532, 464, 488, 776, 498, 694, 684, 780, 352, 756, 252, 304, 800, 190, 388, 206, 376, 660, 832, 348, 560, 640, 626, 884, 398, 310, 614, 364, 832, 276, 578, 162, 178, 482, 276, 494, 542, 462, 234, 510, 650, 868, 862, 494, 622, 756, 812, 388]\n",
            "Prime numbers: [271, 547, 409, 331, 163, 599, 719, 727, 409, 743, 661, 431, 523, 113, 103, 821]\n"
          ]
        }
      ]
    },
    {
      "cell_type": "code",
      "source": [
        "#4.i\n",
        "A = {34, 56, 78, 90}\n",
        "B = {78, 45, 90, 23}\n",
        "print(A.union(B))"
      ],
      "metadata": {
        "colab": {
          "base_uri": "https://localhost:8080/"
        },
        "id": "8eyORNMGpSHe",
        "outputId": "144f7582-9404-49b8-bd13-1a0a15ad512b"
      },
      "execution_count": 9,
      "outputs": [
        {
          "output_type": "stream",
          "name": "stdout",
          "text": [
            "{34, 45, 78, 23, 56, 90}\n"
          ]
        }
      ]
    },
    {
      "cell_type": "code",
      "source": [
        "#4.ii\n",
        "A = {34, 56, 78, 90}\n",
        "B = {78, 45, 90, 23}\n",
        "print(A.intersection(B))\n"
      ],
      "metadata": {
        "colab": {
          "base_uri": "https://localhost:8080/"
        },
        "id": "iO5nBfsPpQ5r",
        "outputId": "6bf24891-e7da-4ca3-80e1-779e2d65617e"
      },
      "execution_count": 10,
      "outputs": [
        {
          "output_type": "stream",
          "name": "stdout",
          "text": [
            "{90, 78}\n"
          ]
        }
      ]
    },
    {
      "cell_type": "code",
      "source": [
        "#4.iii\n",
        "A = {34, 56, 78, 90}\n",
        "B = {78, 45, 90, 23}\n",
        "print(A.symmetric_difference(B))"
      ],
      "metadata": {
        "colab": {
          "base_uri": "https://localhost:8080/"
        },
        "id": "v0w-eka4pPb1",
        "outputId": "4b9d6a3f-b693-405b-9ffe-6e564123972b"
      },
      "execution_count": 11,
      "outputs": [
        {
          "output_type": "stream",
          "name": "stdout",
          "text": [
            "{34, 45, 23, 56}\n"
          ]
        }
      ]
    },
    {
      "cell_type": "code",
      "source": [
        "#4.iv\n",
        "A = {34, 56, 78, 90}\n",
        "B = {78, 45, 90, 23}\n",
        "print(A.issubset(B))\n",
        "print(B.issuperset(A))\n"
      ],
      "metadata": {
        "colab": {
          "base_uri": "https://localhost:8080/"
        },
        "id": "pXoyJQt_pN7A",
        "outputId": "2bb84f6c-b5d3-49a2-ff8e-ebb9b7948cfa"
      },
      "execution_count": 12,
      "outputs": [
        {
          "output_type": "stream",
          "name": "stdout",
          "text": [
            "False\n",
            "False\n"
          ]
        }
      ]
    },
    {
      "cell_type": "code",
      "source": [
        "#4.v\n",
        "A = {34, 56, 78, 90}\n",
        "X = int(input(\"Enter a score to remove from A: \"))\n",
        "if X in A:\n",
        "    A.remove(X)\n",
        "    print(A)\n",
        "else:\n",
        "    print(\"Not present in A\")\n"
      ],
      "metadata": {
        "colab": {
          "base_uri": "https://localhost:8080/"
        },
        "id": "yb4wsVaCpM0i",
        "outputId": "1f5b5eaa-6a28-4d1a-d75d-8ee0d5bdd7c8"
      },
      "execution_count": 13,
      "outputs": [
        {
          "output_type": "stream",
          "name": "stdout",
          "text": [
            "Enter a score to remove from A: 34\n",
            "{56, 90, 78}\n"
          ]
        }
      ]
    },
    {
      "cell_type": "code",
      "source": [
        "#5\n",
        "locations = {\"name\": \"kelly\", \"age\": 25, \"salary\": 8000, \"city\": \"New York\"}\n",
        "locations[\"location\"] = locations.pop(\"city\")\n",
        "print(locations)\n"
      ],
      "metadata": {
        "colab": {
          "base_uri": "https://localhost:8080/"
        },
        "id": "gud4UVJwpLYi",
        "outputId": "002a2b76-a055-4b53-a61f-ef7b99a5deb5"
      },
      "execution_count": 17,
      "outputs": [
        {
          "output_type": "stream",
          "name": "stdout",
          "text": [
            "{'name': 'kelly', 'age': 25, 'salary': 8000, 'location': 'New York'}\n"
          ]
        }
      ]
    },
    {
      "cell_type": "code",
      "source": [
        "#1.ii\n",
        "L = [10, 20, 30, 40, 50, 60, 70, 80]\n",
        "L.remove(10)\n",
        "L.remove(30)\n",
        "print(L)"
      ],
      "metadata": {
        "colab": {
          "base_uri": "https://localhost:8080/"
        },
        "id": "JujiJVO9pJmQ",
        "outputId": "7aa5fe4e-f42e-4a68-9f24-76c97af7a450"
      },
      "execution_count": 15,
      "outputs": [
        {
          "output_type": "stream",
          "name": "stdout",
          "text": [
            "[20, 40, 50, 60, 70, 80]\n"
          ]
        }
      ]
    }
  ]
}