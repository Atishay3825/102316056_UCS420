{
  "nbformat": 4,
  "nbformat_minor": 0,
  "metadata": {
    "colab": {
      "provenance": [],
      "authorship_tag": "ABX9TyOF8KBlxwWGwCi7km2sn4W+",
      "include_colab_link": true
    },
    "kernelspec": {
      "name": "python3",
      "display_name": "Python 3"
    },
    "language_info": {
      "name": "python"
    }
  },
  "cells": [
    {
      "cell_type": "markdown",
      "metadata": {
        "id": "view-in-github",
        "colab_type": "text"
      },
      "source": [
        "<a href=\"https://colab.research.google.com/github/Atishay3825/102316056_UCS420/blob/main/Assignment1_102316056.ipynb\" target=\"_parent\"><img src=\"https://colab.research.google.com/assets/colab-badge.svg\" alt=\"Open In Colab\"/></a>"
      ]
    },
    {
      "cell_type": "code",
      "execution_count": 1,
      "metadata": {
        "colab": {
          "base_uri": "https://localhost:8080/"
        },
        "id": "lCylXO0ansVr",
        "outputId": "17083118-c01c-4a33-d7f1-e396fc15fe3b"
      },
      "outputs": [
        {
          "output_type": "stream",
          "name": "stdout",
          "text": [
            "ATISHAY\n",
            "ATISHAY\n",
            "ATISHAY\n"
          ]
        }
      ],
      "source": [
        "#1.1\n",
        "print(\"ATISHAY\")\n",
        "print(\"ATISHAY\")\n",
        "print(\"ATISHAY\")"
      ]
    },
    {
      "cell_type": "code",
      "source": [
        "\n",
        "#6.2\n",
        "def sum_of_primes(n):\n",
        "    def is_prime(num):\n",
        "        if num < 2:\n",
        "            return False\n",
        "        for i in range(2, num):\n",
        "            if num % i == 0:\n",
        "                return False\n",
        "        return True\n",
        "    total = 0\n",
        "    for x in range(1, n + 1):\n",
        "        if is_prime(x):\n",
        "            total += x\n",
        "    return total\n",
        "n = int(input(\"Enter a number: \"))\n",
        "print(sum_of_primes(n))"
      ],
      "metadata": {
        "colab": {
          "base_uri": "https://localhost:8080/"
        },
        "id": "SIAxChNOoLdA",
        "outputId": "686f18b3-5880-4d69-8398-aa142d01a13b"
      },
      "execution_count": 2,
      "outputs": [
        {
          "output_type": "stream",
          "name": "stdout",
          "text": [
            "Enter a number: 5\n",
            "10\n"
          ]
        }
      ]
    },
    {
      "cell_type": "code",
      "source": [
        "\n",
        "#6.1\n",
        "def sum_of_odds(n):\n",
        "    total = 0\n",
        "    for x in range(1, n + 1):\n",
        "        if x % 2 != 0:\n",
        "            total += x\n",
        "    return total\n",
        "n = int(input(\"Enter a number: \"))\n",
        "print(sum_of_odds(n))"
      ],
      "metadata": {
        "colab": {
          "base_uri": "https://localhost:8080/"
        },
        "id": "OoYwKW3boJVc",
        "outputId": "74063e75-1beb-40f6-f12b-a210a9200875"
      },
      "execution_count": 3,
      "outputs": [
        {
          "output_type": "stream",
          "name": "stdout",
          "text": [
            "Enter a number: 5\n",
            "9\n"
          ]
        }
      ]
    },
    {
      "cell_type": "code",
      "source": [
        "#5.3\n",
        "def is_prime(num):\n",
        "    if num < 2:\n",
        "        return False\n",
        "    for i in range(2, num):\n",
        "        if num % i == 0:\n",
        "            return False\n",
        "    return True\n",
        "n = int(input(\"Enter a number: \"))\n",
        "total = 0\n",
        "for x in range(1, n + 1):\n",
        "    if is_prime(x):\n",
        "        total += x\n",
        "print(total)"
      ],
      "metadata": {
        "colab": {
          "base_uri": "https://localhost:8080/"
        },
        "id": "HvaGMFGeoGsU",
        "outputId": "94fa1990-7301-46a2-db7d-b97da161ec52"
      },
      "execution_count": 4,
      "outputs": [
        {
          "output_type": "stream",
          "name": "stdout",
          "text": [
            "Enter a number: 5\n",
            "10\n"
          ]
        }
      ]
    },
    {
      "cell_type": "code",
      "source": [
        "#2.1\n",
        "\n",
        "print(3 + 5 + 7)"
      ],
      "metadata": {
        "colab": {
          "base_uri": "https://localhost:8080/"
        },
        "id": "pMDCKcBtn1U5",
        "outputId": "a173df64-79cb-42b3-ed29-3ebe95947567"
      },
      "execution_count": 5,
      "outputs": [
        {
          "output_type": "stream",
          "name": "stdout",
          "text": [
            "15\n"
          ]
        }
      ]
    },
    {
      "cell_type": "code",
      "source": [
        "#2.2\n",
        "print(\"Atishay\" + \" \" + \"Jain\")"
      ],
      "metadata": {
        "colab": {
          "base_uri": "https://localhost:8080/"
        },
        "id": "a-qoa16Sn1td",
        "outputId": "a5f92915-103a-4d7f-a90d-9dd0f78e4a8d"
      },
      "execution_count": 6,
      "outputs": [
        {
          "output_type": "stream",
          "name": "stdout",
          "text": [
            "Atishay Jain\n"
          ]
        }
      ]
    },
    {
      "cell_type": "code",
      "source": [
        "#4.1\n",
        "for i in range(1, 11):\n",
        "    print(\"7 x\", i, \"=\", 7 * i)\n",
        "for i in range(1, 11):\n",
        "    print(\"9 x\", i, \"=\", 9 * i)"
      ],
      "metadata": {
        "colab": {
          "base_uri": "https://localhost:8080/"
        },
        "id": "EoKc-bjwn1xU",
        "outputId": "9bba33be-40b0-4b46-bc99-b590680cf628"
      },
      "execution_count": 7,
      "outputs": [
        {
          "output_type": "stream",
          "name": "stdout",
          "text": [
            "7 x 1 = 7\n",
            "7 x 2 = 14\n",
            "7 x 3 = 21\n",
            "7 x 4 = 28\n",
            "7 x 5 = 35\n",
            "7 x 6 = 42\n",
            "7 x 7 = 49\n",
            "7 x 8 = 56\n",
            "7 x 9 = 63\n",
            "7 x 10 = 70\n",
            "9 x 1 = 9\n",
            "9 x 2 = 18\n",
            "9 x 3 = 27\n",
            "9 x 4 = 36\n",
            "9 x 5 = 45\n",
            "9 x 6 = 54\n",
            "9 x 7 = 63\n",
            "9 x 8 = 72\n",
            "9 x 9 = 81\n",
            "9 x 10 = 90\n"
          ]
        }
      ]
    },
    {
      "cell_type": "code",
      "source": [
        "#4.2\n",
        "n = int(input(\"Enter a number: \"))\n",
        "for i in range(1, 11):\n",
        "    print(n, \"x\", i, \"=\", n * i)"
      ],
      "metadata": {
        "colab": {
          "base_uri": "https://localhost:8080/"
        },
        "id": "mr784XHLn10y",
        "outputId": "d76178f2-5ab5-4a18-9595-43bef41fe15d"
      },
      "execution_count": 8,
      "outputs": [
        {
          "output_type": "stream",
          "name": "stdout",
          "text": [
            "Enter a number: 5\n",
            "5 x 1 = 5\n",
            "5 x 2 = 10\n",
            "5 x 3 = 15\n",
            "5 x 4 = 20\n",
            "5 x 5 = 25\n",
            "5 x 6 = 30\n",
            "5 x 7 = 35\n",
            "5 x 8 = 40\n",
            "5 x 9 = 45\n",
            "5 x 10 = 50\n"
          ]
        }
      ]
    },
    {
      "cell_type": "code",
      "source": [
        "#4.3\n",
        "n = int(input(\"Enter a number: \"))\n",
        "total = 0\n",
        "for i in range(1, n + 1):\n",
        "    total += i\n",
        "print(total)"
      ],
      "metadata": {
        "colab": {
          "base_uri": "https://localhost:8080/"
        },
        "id": "5yaLfJ8dn13r",
        "outputId": "b8519633-c0d9-4932-8a87-a3f1a1bb3791"
      },
      "execution_count": 9,
      "outputs": [
        {
          "output_type": "stream",
          "name": "stdout",
          "text": [
            "Enter a number: 5\n",
            "15\n"
          ]
        }
      ]
    },
    {
      "cell_type": "code",
      "source": [
        "#5.1\n",
        "a = int(input(\"Enter first number: \"))\n",
        "b = int(input(\"Enter second number: \"))\n",
        "c = int(input(\"Enter third number: \"))\n",
        "if a > b and a > c:\n",
        "    print(a)\n",
        "elif b > c:\n",
        "    print(b)\n",
        "else:\n",
        "    print(c)"
      ],
      "metadata": {
        "colab": {
          "base_uri": "https://localhost:8080/"
        },
        "id": "eCnZoHDEn16y",
        "outputId": "9848a958-bcf6-4d7f-f972-df8ccbabebc3"
      },
      "execution_count": 10,
      "outputs": [
        {
          "output_type": "stream",
          "name": "stdout",
          "text": [
            "Enter first number: 5\n",
            "Enter second number: 2\n",
            "Enter third number: 3\n",
            "5\n"
          ]
        }
      ]
    },
    {
      "cell_type": "code",
      "source": [
        "#5.2\n",
        "n = int(input(\"Enter a number: \"))\n",
        "total = 0\n",
        "for x in range(1, n + 1):\n",
        "    if x % 7 == 0 and x % 9 == 0:\n",
        "        total += x\n",
        "print(total)"
      ],
      "metadata": {
        "colab": {
          "base_uri": "https://localhost:8080/"
        },
        "id": "dsHJ-XyPn1-B",
        "outputId": "534df0f6-a71a-412a-9ccf-4f6b1144e254"
      },
      "execution_count": 11,
      "outputs": [
        {
          "output_type": "stream",
          "name": "stdout",
          "text": [
            "Enter a number: 5\n",
            "0\n"
          ]
        }
      ]
    }
  ]
}