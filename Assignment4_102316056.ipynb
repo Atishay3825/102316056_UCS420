{
  "cells": [
    {
      "cell_type": "markdown",
      "metadata": {
        "id": "view-in-github",
        "colab_type": "text"
      },
      "source": [
        "<a href=\"https://colab.research.google.com/github/Atishay3825/102316056_UCS420/blob/main/Assignment4_102316056.ipynb\" target=\"_parent\"><img src=\"https://colab.research.google.com/assets/colab-badge.svg\" alt=\"Open In Colab\"/></a>"
      ]
    },
    {
      "cell_type": "code",
      "execution_count": null,
      "metadata": {
        "id": "YxivnA8QjS4K",
        "outputId": "c5face49-ae1d-4a4d-e8dd-5fb7d8880cdb"
      },
      "outputs": [
        {
          "name": "stdout",
          "output_type": "stream",
          "text": [
            "Original Array: [1 2 3 4 5]\n",
            "After adding 2: [3 4 5 6 7]\n",
            "After multiplying by 3: [ 3  6  9 12 15]\n",
            "After dividing by 2: [0.5 1.  1.5 2.  2.5]\n"
          ]
        }
      ],
      "source": [
        "import numpy as np\n",
        "\n",
        "# Q1:\n",
        "arr = np.array([1, 2, 3, 4, 5])\n",
        "print(\"Original Array:\", arr)\n",
        "\n",
        "# a)\n",
        "arr_add = arr + 2\n",
        "print(\"After adding 2:\", arr_add)\n",
        "\n",
        "# b)\n",
        "arr_mul = arr * 3\n",
        "print(\"After multiplying by 3:\", arr_mul)\n",
        "\n",
        "# c)\n",
        "arr_div = arr / 2\n",
        "print(\"After dividing by 2:\", arr_div)"
      ]
    },
    {
      "cell_type": "code",
      "execution_count": null,
      "metadata": {
        "id": "WGX1VslYjS4L",
        "outputId": "e345515d-62e0-4fda-a1af-a7c3f45bb6da"
      },
      "outputs": [
        {
          "name": "stdout",
          "output_type": "stream",
          "text": [
            "Reversed Array: [5 4 6 3 2 1]\n",
            "Most frequent value in x: 1, Indices: [0 5 7 8 9]\n",
            "Most frequent value in y: 1, Indices: [0 1 2]\n"
          ]
        }
      ],
      "source": [
        "# Q2:\n",
        "# a)\n",
        "arr2 = np.array([1, 2, 3, 6, 4, 5])\n",
        "arr_rev = arr2[::-1]\n",
        "print(\"Reversed Array:\", arr_rev)\n",
        "\n",
        "# b)\n",
        "def most_frequent(arr):\n",
        "    vals, counts = np.unique(arr, return_counts=True)\n",
        "    max_count = np.max(counts)\n",
        "    most_frequent_value = vals[np.argmax(counts)]\n",
        "    indices = np.where(arr == most_frequent_value)[0]\n",
        "    return most_frequent_value, indices\n",
        "\n",
        "x = np.array([1, 2, 3, 4, 5, 1, 2, 1, 1, 1])\n",
        "y = np.array([1, 1, 1, 2, 3, 4, 2, 4, 3, 3])\n",
        "\n",
        "x_value, x_indices = most_frequent(x)\n",
        "y_value, y_indices = most_frequent(y)\n",
        "\n",
        "print(f\"Most frequent value in x: {x_value}, Indices: {x_indices}\")\n",
        "print(f\"Most frequent value in y: {y_value}, Indices: {y_indices}\")\n"
      ]
    },
    {
      "cell_type": "code",
      "execution_count": null,
      "metadata": {
        "id": "ILdLfiaQjS4L",
        "outputId": "7539efac-e2b2-471b-f12f-3a01dbee8833"
      },
      "outputs": [
        {
          "name": "stdout",
          "output_type": "stream",
          "text": [
            "Element at (1st row, 2nd column): 20\n",
            "Element at (3rd row, 1st column): 70\n"
          ]
        }
      ],
      "source": [
        "# Q3:\n",
        "a_arr = np.array([[10, 20, 30], [40, 50, 60], [70, 80, 90]])\n",
        "print(\"Element at (1st row, 2nd column):\", a_arr[0, 1])\n",
        "print(\"Element at (3rd row, 1st column):\", a_arr[2, 0])\n"
      ]
    },
    {
      "cell_type": "code",
      "execution_count": null,
      "metadata": {
        "id": "-_oNPvjKjS4L"
      },
      "outputs": [],
      "source": [
        "# Q4:\n",
        "Atishay = np.linspace(10, 100, 25)\n",
        "print(\"Array:\", Atishay)\n",
        "print(\"Dimensions:\", Atishay.ndim)\n",
        "print(\"Shape:\", Atishay.shape)\n",
        "print(\"Total elements:\", Atishay.size)\n",
        "print(\"Data type:\", Atishay.dtype)\n",
        "print(\"Total bytes consumed:\", Atishay.nbytes)\n",
        "\n",
        "# Transpose\n",
        "transposed_array = Atishay.reshape(25, 1)\n",
        "print(\"Transposed Array using reshape():\\n\", transposed_array)\n",
        "\n",
        "# Using T attribute\n",
        "print(\"Transpose using T attribute:\", Atishay.T)\n"
      ]
    },
    {
      "cell_type": "code",
      "execution_count": null,
      "metadata": {
        "id": "7WrVP6_sjS4Q"
      },
      "outputs": [],
      "source": [
        "# Q5:\n",
        "ucs420_atishay = np.array([[10, 20, 30, 40], [50, 60, 70, 80], [90, 15, 20, 35]])\n",
        "print(\"Mean:\", np.mean(ucs420_atishay))\n",
        "print(\"Median:\", np.median(ucs420_atishay))\n",
        "print(\"Max:\", np.max(ucs420_atishay))\n",
        "print(\"Min:\", np.min(ucs420_atishay))\n",
        "print(\"Unique Elements:\", np.unique(ucs420_atishay))\n",
        "\n",
        "# Reshape to 4x3\n",
        "reshaped_ucs420_atishay = ucs420_atishay.reshape(4, 3)\n",
        "print(\"Reshaped Array (4x3):\\n\", reshaped_ucs420_atishay)\n",
        "\n",
        "# Resize to 2x3\n",
        "resized_ucs420_atishay = np.resize(ucs420_atishay, (2, 3))\n",
        "print(\"Resized Array (2x3):\\n\", resized_ucs420_atishay)\n"
      ]
    }
  ],
  "metadata": {
    "kernelspec": {
      "display_name": "Python 3",
      "language": "python",
      "name": "python3"
    },
    "language_info": {
      "codemirror_mode": {
        "name": "ipython",
        "version": 3
      },
      "file_extension": ".py",
      "mimetype": "text/x-python",
      "name": "python",
      "nbconvert_exporter": "python",
      "pygments_lexer": "ipython3",
      "version": "3.12.8"
    },
    "colab": {
      "provenance": [],
      "include_colab_link": true
    }
  },
  "nbformat": 4,
  "nbformat_minor": 0
}