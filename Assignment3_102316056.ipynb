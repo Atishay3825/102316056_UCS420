{
  "nbformat": 4,
  "nbformat_minor": 0,
  "metadata": {
    "colab": {
      "provenance": [],
      "authorship_tag": "ABX9TyO6mtKgqj3VwCtHiV0TGnYg",
      "include_colab_link": true
    },
    "kernelspec": {
      "name": "python3",
      "display_name": "Python 3"
    },
    "language_info": {
      "name": "python"
    }
  },
  "cells": [
    {
      "cell_type": "markdown",
      "metadata": {
        "id": "view-in-github",
        "colab_type": "text"
      },
      "source": [
        "<a href=\"https://colab.research.google.com/github/Atishay3825/102316056_UCS420/blob/main/Assignment3_102316056.ipynb\" target=\"_parent\"><img src=\"https://colab.research.google.com/assets/colab-badge.svg\" alt=\"Open In Colab\"/></a>"
      ]
    },
    {
      "cell_type": "code",
      "execution_count": 2,
      "metadata": {
        "colab": {
          "base_uri": "https://localhost:8080/"
        },
        "id": "p_0P_GXse-NN",
        "outputId": "60d9ec42-3437-4d95-ebcb-d1db836cb942"
      },
      "outputs": [
        {
          "output_type": "stream",
          "name": "stdout",
          "text": [
            "   Tid Refund Marital Status Taxable Income Cheat\n",
            "0    1    Yes         Single           125K    No\n",
            "1    2     No        Married           100K    No\n",
            "2    3     No         Single            70K    No\n",
            "3    4    Yes        Married           120K    No\n",
            "4    5     No       Divorced            95K   Yes\n",
            "5    6     No        Married            60K    No\n",
            "6    7    Yes       Divorced           220K    No\n",
            "7    8     No         Single            85K   Yes\n",
            "8    9     No        Married            75K    No\n",
            "9   10     No         Single            90K   Yes\n"
          ]
        }
      ],
      "source": [
        "#Q1:\n",
        "import pandas as pd\n",
        "\n",
        "data = {\n",
        "    \"Tid\": [1, 2, 3, 4, 5, 6, 7, 8, 9, 10],\n",
        "    \"Refund\": [\"Yes\", \"No\", \"No\", \"Yes\", \"No\", \"No\", \"Yes\", \"No\", \"No\", \"No\"],\n",
        "    \"Marital Status\": [\"Single\", \"Married\", \"Single\", \"Married\", \"Divorced\", \"Married\", \"Divorced\", \"Single\", \"Married\", \"Single\"],\n",
        "    \"Taxable Income\": [\"125K\", \"100K\", \"70K\", \"120K\", \"95K\", \"60K\", \"220K\", \"85K\", \"75K\", \"90K\"],\n",
        "    \"Cheat\": [\"No\", \"No\", \"No\", \"No\", \"Yes\", \"No\", \"No\", \"Yes\", \"No\", \"Yes\"]\n",
        "}\n",
        "\n",
        "df = pd.DataFrame(data)\n",
        "print(df)\n"
      ]
    },
    {
      "cell_type": "code",
      "source": [
        "#Q2:\n",
        "rows = df.loc[[0, 4, 7, 8]]\n",
        "print(rows)\n"
      ],
      "metadata": {
        "id": "_u4NYIngfjbh"
      },
      "execution_count": null,
      "outputs": []
    },
    {
      "cell_type": "code",
      "source": [
        "#Q3:\n",
        "# Select rows from index 3 to 7\n",
        "r1 = df.iloc[3:8]\n",
        "print(r1)\n",
        "\n",
        "# Select rows from index 4 to 8 and columns 2 to 4\n",
        "r2 = df.iloc[4:9, 2:5]\n",
        "print(r2)\n",
        "\n",
        "# Select all rows with column index 1 to 3 (including 3)\n",
        "r3 = df.iloc[:, 1:4]\n",
        "print(r3)\n"
      ],
      "metadata": {
        "id": "Vqn-q8avfnIy"
      },
      "execution_count": null,
      "outputs": []
    },
    {
      "cell_type": "code",
      "source": [
        "#q4:\n",
        "iris_df = pd.read_csv(\"iris.csv\")\n",
        "print(iris_df.head())\n"
      ],
      "metadata": {
        "id": "8Z_XgdvKgMDE"
      },
      "execution_count": null,
      "outputs": []
    },
    {
      "cell_type": "code",
      "source": [
        "\n",
        "#q5:\n",
        "iris_df = iris_df.drop(index=4)\n",
        "iris_df = iris_df.drop(iris_df.columns[3], axis=1)\n",
        "print(iris_df)\n"
      ],
      "metadata": {
        "id": "8Nci5607fvRZ"
      },
      "execution_count": null,
      "outputs": []
    },
    {
      "cell_type": "code",
      "source": [
        "#q6:import pandas as pd\n",
        "\n",
        "# Creating the Employee Dataset\n",
        "data_q6 = {\n",
        "    \"Employee_ID\": [101, 102, 103, 104, 105],\n",
        "    \"Name\": [\"Alice\", \"Bob\", \"Charlie\", \"Diana\", \"Edward\"],\n",
        "    \"Department\": [\"HR\", \"IT\", \"IT\", \"Marketing\", \"Sales\"],\n",
        "    \"Age\": [29, 34, 41, 28, 38],\n",
        "    \"Salary\": [50000, 70000, 65000, 55000, 60000],\n",
        "    \"Years_of_Experience\": [4, 8, 10, 3, 12],\n",
        "    \"Joining_Date\": [\"2020-03-15\", \"2017-07-19\", \"2013-06-01\", \"2021-02-10\", \"2010-11-25\"],\n",
        "    \"Gender\": [\"Female\", \"Male\", \"Male\", \"Female\", \"Male\"],\n",
        "    \"Bonus\": [5000, 7000, 6000, 4500, 5000],\n",
        "    \"Rating\": [4.5, 4.0, 3.8, 4.7, 3.5]\n",
        "}\n",
        "\n",
        "df_q6 = pd.DataFrame(data_q6)\n",
        "\n",
        "# (a) Shape of the dataset\n",
        "print(\"Dataset Shape:\", df_q6.shape)\n",
        "\n",
        "# (b) Summary of the dataset\n",
        "print(\"\\nDataset Info:\")\n",
        "df_q6.info()\n",
        "\n",
        "# (c) Generate descriptive statistics\n",
        "print(\"\\nDescriptive Statistics:\")\n",
        "print(df_q6.describe())\n",
        "\n",
        "# (d) Display the first 5 rows and last 3 rows\n",
        "print(\"\\nFirst 5 Rows:\")\n",
        "print(df_q6.head())\n",
        "\n",
        "print(\"\\nLast 3 Rows:\")\n",
        "print(df_q6.tail(3))\n",
        "\n",
        "# (e) Calculate required statistics\n",
        "print(\"\\nAverage Salary:\", df_q6[\"Salary\"].mean())\n",
        "print(\"Total Bonus Paid:\", df_q6[\"Bonus\"].sum())\n",
        "print(\"Youngest Employee's Age:\", df_q6[\"Age\"].min())\n",
        "print(\"Highest Performance Rating:\", df_q6[\"Rating\"].max())\n",
        "\n",
        "# (f) Sort by Salary in descending order\n",
        "df_sorted = df_q6.sort_values(by=\"Salary\", ascending=False)\n",
        "print(\"\\nData sorted by Salary:\\n\", df_sorted)\n",
        "\n",
        "# (g) Categorize employees based on Rating\n",
        "def categorize_performance(rating):\n",
        "    if rating >= 4.5:\n",
        "        return \"Excellent\"\n",
        "    elif rating >= 4.0:\n",
        "        return \"Good\"\n",
        "    else:\n",
        "        return \"Average\"\n",
        "\n",
        "df_q6[\"Performance\"] = df_q6[\"Rating\"].apply(categorize_performance)\n",
        "print(\"\\nPerformance Categorization:\\n\", df_q6[[\"Name\", \"Rating\", \"Performance\"]])\n",
        "\n",
        "# (h) Identify missing values\n",
        "print(\"\\nMissing Values:\\n\", df_q6.isnull().sum())\n",
        "\n",
        "# (i) Rename 'Employee_ID' to 'ID'\n",
        "df_q6.rename(columns={\"Employee_ID\": \"ID\"}, inplace=True)\n",
        "\n",
        "# (j) Find employees with more than 5 years of experience and in IT\n",
        "df_experienced = df_q6[df_q6[\"Years_of_Experience\"] > 5]\n",
        "df_it = df_q6[df_q6[\"Department\"] == \"IT\"]\n",
        "print(\"\\nEmployees with more than 5 years of experience:\\n\", df_experienced)\n",
        "print(\"\\nEmployees in IT Department:\\n\", df_it)\n",
        "\n",
        "# (k) Add 'Tax' column (10% deduction from Salary)\n",
        "df_q6[\"Tax\"] = df_q6[\"Salary\"] * 0.10\n",
        "print(\"\\nData with Tax Column:\\n\", df_q6)\n",
        "\n",
        "# (l) Save the modified dataset to a new CSV file\n",
        "df_q6.to_csv(\"modified_employees.csv\", index=False)\n",
        "print(\"\\nModified dataset saved to 'modified_employees.csv'\")\n"
      ],
      "metadata": {
        "id": "1AjQoPTtfsTm"
      },
      "execution_count": null,
      "outputs": []
    }
  ]
}